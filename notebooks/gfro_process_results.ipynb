{
 "cells": [
  {
   "cell_type": "markdown",
   "id": "aaa61a18",
   "metadata": {},
   "source": [
    "The goal of this notebook is to obtain number of fragments and variance metric for GFRO decompositions"
   ]
  },
  {
   "cell_type": "code",
   "execution_count": 1,
   "id": "f844069d",
   "metadata": {},
   "outputs": [],
   "source": [
    "import sys\n",
    "sys.path.append('../')\n",
    "\n",
    "import numpy as np\n",
    "import pickle\n",
    "\n",
    "from utils_process import (\n",
    "    chem_ten2op,\n",
    "    calculate_variance_metric,\n",
    "    calculate_variance_metric_memory_efficient\n",
    ")\n",
    "\n",
    "from utils_gfro import (\n",
    "    num_params,\n",
    "    get_fragment,\n",
    "    evaluate_cost_function\n",
    ")\n"
   ]
  },
  {
   "cell_type": "code",
   "execution_count": 2,
   "id": "917ed3d7",
   "metadata": {},
   "outputs": [
    {
     "name": "stdout",
     "output_type": "stream",
     "text": [
      "fragment number: 2 / 3\n",
      "        Molecule            : h2\n",
      "        Method              : gfro\n",
      "        Number of Fragments : 3\n",
      "        Variance Metric     : (0.13644846968521346-7.530424220218472e-16j)\n",
      "    \n",
      "fragment number: 14 / 15\n",
      "        Molecule            : h4\n",
      "        Method              : gfro\n",
      "        Number of Fragments : 15\n",
      "        Variance Metric     : (0.6571711111928602+2.093081923277021e-17j)\n",
      "    \n",
      "fragment number: 23 / 24\n",
      "        Molecule            : lih\n",
      "        Method              : gfro\n",
      "        Number of Fragments : 24\n",
      "        Variance Metric     : (2.6827082331513434-1.0067901473186767e-15j)\n",
      "    \n",
      "fragment number: 31 / 32\n",
      "        Molecule            : beh2\n",
      "        Method              : gfro\n",
      "        Number of Fragments : 32\n",
      "        Variance Metric     : (1.4712488345255113-1.5019822303346644e-14j)\n",
      "    \n",
      "fragment number: 33 / 34\n",
      "        Molecule            : h2o\n",
      "        Method              : gfro\n",
      "        Number of Fragments : 34\n",
      "        Variance Metric     : (49.715066404683895+7.448386343039836e-14j)\n",
      "    \n",
      "fragment number: 46 / 47\n",
      "        Molecule            : nh3\n",
      "        Method              : gfro\n",
      "        Number of Fragments : 47\n",
      "        Variance Metric     : (46.19048646751455-6.409425329259917e-13j)\n",
      "    \n"
     ]
    }
   ],
   "source": [
    "for moltag in ['h2', 'h4', 'lih', 'beh2', 'h2o', 'nh3']:\n",
    "\n",
    "    # load hamiltonian\n",
    "    with open(f'../hamiltonians/{moltag}/operator', 'rb') as f:\n",
    "        Hferm = pickle.load(f)\n",
    "\n",
    "    # load hamiltonian tensors\n",
    "    with open(f'../hamiltonians/{moltag}/chem_tensors', 'rb') as f:\n",
    "        Hobt, Htbt = pickle.load(f)\n",
    "\n",
    "    # load parameters and norms of gfro decomposition\n",
    "    with open(f'../results/{moltag}/params_gfro_100', 'rb') as f:\n",
    "        params, norms = pickle.load(f)\n",
    "\n",
    "    # convert the parameters to fragment tensors \n",
    "    N = Hobt.shape[0]\n",
    "\n",
    "    tbt_frags = list()\n",
    "    for x in params:\n",
    "        tbt_frags.append( get_fragment(x, N) )\n",
    "\n",
    "    # compute both metrics\n",
    "\n",
    "    num_fragments_metric = len(tbt_frags) + 1\n",
    "    variance_metric      = calculate_variance_metric_memory_efficient(Hferm, Hobt, tbt_frags)[1]\n",
    "\n",
    "    print(f\"\"\"\n",
    "        Molecule            : {moltag}\n",
    "        Method              : {'gfro'}\n",
    "        Number of Fragments : {num_fragments_metric}\n",
    "        Variance Metric     : {variance_metric}\n",
    "    \"\"\")"
   ]
  },
  {
   "cell_type": "code",
   "execution_count": null,
   "id": "ee0dbc0a",
   "metadata": {},
   "outputs": [],
   "source": [
    "#\n",
    "#    sanity check: verify that ||Htbt - \\sum_{k=1}^{K} tbt_frags[k]|| == norms[k+1]\n",
    "#\n",
    "\n",
    "Htbt_c = Htbt.copy()\n",
    "current_norm = np.sum(Htbt_c * Htbt_c)\n",
    "print(np.abs(current_norm - norms[0]) < 1e-12, end='') \n",
    "\n",
    "for i, frag in enumerate(tbt_frags):\n",
    "    Htbt_c -= frag\n",
    "    current_norm = np.sum(Htbt_c * Htbt_c)\n",
    "    print(np.abs(current_norm - norms[i+1]) < 1e-12, end='')"
   ]
  },
  {
   "cell_type": "code",
   "execution_count": null,
   "id": "e34bceac",
   "metadata": {},
   "outputs": [],
   "source": []
  }
 ],
 "metadata": {
  "kernelspec": {
   "display_name": "Python 3",
   "language": "python",
   "name": "python3"
  },
  "language_info": {
   "codemirror_mode": {
    "name": "ipython",
    "version": 3
   },
   "file_extension": ".py",
   "mimetype": "text/x-python",
   "name": "python",
   "nbconvert_exporter": "python",
   "pygments_lexer": "ipython3",
   "version": "3.7.9"
  }
 },
 "nbformat": 4,
 "nbformat_minor": 5
}
