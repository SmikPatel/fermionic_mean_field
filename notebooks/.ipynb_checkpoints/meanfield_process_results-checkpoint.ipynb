{
 "cells": [
  {
   "cell_type": "markdown",
   "id": "040ed64d",
   "metadata": {},
   "source": [
    "The goal of this notebook is to obtain number of fragments and variance metric for meanfield decompositions"
   ]
  },
  {
   "cell_type": "code",
   "execution_count": 1,
   "id": "f68faeb0",
   "metadata": {},
   "outputs": [],
   "source": [
    "import sys\n",
    "sys.path.append('../')\n",
    "\n",
    "import numpy as np\n",
    "import pickle\n",
    "\n",
    "from utils_process import (\n",
    "    chem_ten2op,\n",
    "    calculate_variance_metric,\n",
    "    calculate_variance_metric_memory_efficient\n",
    ")\n",
    "\n",
    "from utils_meanfield import (\n",
    "    num_params,\n",
    "    get_fragment,\n",
    "    evaluate_cost_function\n",
    ")"
   ]
  },
  {
   "cell_type": "code",
   "execution_count": 2,
   "id": "9c686904",
   "metadata": {},
   "outputs": [
    {
     "name": "stdout",
     "output_type": "stream",
     "text": [
      "fragment number: 14 / 15\n",
      "        Molecule            : h2 \n",
      "        Method              : meanfield\n",
      "        Number of Fragments : 15\n",
      "        Variance Metric     : (2.2195693675757986+2.9202691848688303e-16j)\n",
      "    \n",
      "fragment number: 19 / 20\n",
      "        Molecule            : h4 \n",
      "        Method              : meanfield\n",
      "        Number of Fragments : 20\n",
      "        Variance Metric     : (9.444825730845455+2.277269356058459e-15j)\n",
      "    \n",
      "fragment number: 57 / 58\n",
      "        Molecule            : lih \n",
      "        Method              : meanfield\n",
      "        Number of Fragments : 58\n",
      "        Variance Metric     : (5.4918929630100575+4.460518245858147e-15j)\n",
      "    \n",
      "fragment number: 82 / 83\n",
      "        Molecule            : beh2 \n",
      "        Method              : meanfield\n",
      "        Number of Fragments : 83\n",
      "        Variance Metric     : (11.479501551055778+2.5413130534039134e-14j)\n",
      "    \n",
      "fragment number: 101 / 102\n",
      "        Molecule            : h2o \n",
      "        Method              : meanfield\n",
      "        Number of Fragments : 102\n",
      "        Variance Metric     : (137.48303865003157+1.1598258635622445e-13j)\n",
      "    \n",
      "fragment number: 60 / 61\n",
      "        Molecule            : nh3 \n",
      "        Method              : meanfield\n",
      "        Number of Fragments : 61\n",
      "        Variance Metric     : (115.47943921375806-1.767887717292821e-13j)\n",
      "    \n"
     ]
    }
   ],
   "source": [
    "for moltag in ['h2', 'h4', 'lih', 'beh2', 'h2o', 'nh3']:\n",
    "\n",
    "    # load hamiltonian\n",
    "    with open(f'../hamiltonians/{moltag}/operator', 'rb') as f:\n",
    "        Hferm = pickle.load(f)\n",
    "\n",
    "    # load hamiltonian tensors\n",
    "    with open(f'../hamiltonians/{moltag}/chem_tensors', 'rb') as f:\n",
    "        Hobt, Htbt = pickle.load(f)\n",
    "\n",
    "    # load parameters and norms of meanfield decomposition\n",
    "    with open(f'../results/{moltag}/params_meanfield_100', 'rb') as f:\n",
    "        params, norms = pickle.load(f)\n",
    "\n",
    "    # convert the parameters to fragment tensors\n",
    "    N = Hobt.shape[0]\n",
    "\n",
    "    S1 = list(range(N//2))\n",
    "    S2 = list(range(N//2, N))\n",
    "\n",
    "    N1 = len(S1)\n",
    "    N2 = len(S2)\n",
    "\n",
    "    tbt_frags = list()\n",
    "    for x in params:\n",
    "        tbt_frags.append( get_fragment(x, S1, S2, N1, N2) )\n",
    "\n",
    "    # compute both metrics\n",
    "\n",
    "    num_fragments_metric = len(tbt_frags) + 1\n",
    "    variance_metric      = calculate_variance_metric_memory_efficient(Hferm, Hobt, tbt_frags)[1]\n",
    "\n",
    "    print(f\"\"\"\n",
    "        Molecule            : {moltag} \n",
    "        Method              : {'meanfield'}\n",
    "        Number of Fragments : {num_fragments_metric}\n",
    "        Variance Metric     : {variance_metric}\n",
    "    \"\"\")"
   ]
  },
  {
   "cell_type": "code",
   "execution_count": null,
   "id": "beac43b0",
   "metadata": {},
   "outputs": [],
   "source": []
  }
 ],
 "metadata": {
  "kernelspec": {
   "display_name": "Python 3",
   "language": "python",
   "name": "python3"
  },
  "language_info": {
   "codemirror_mode": {
    "name": "ipython",
    "version": 3
   },
   "file_extension": ".py",
   "mimetype": "text/x-python",
   "name": "python",
   "nbconvert_exporter": "python",
   "pygments_lexer": "ipython3",
   "version": "3.7.9"
  }
 },
 "nbformat": 4,
 "nbformat_minor": 5
}
