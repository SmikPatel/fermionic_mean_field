{
 "cells": [
  {
   "cell_type": "markdown",
   "id": "32106660",
   "metadata": {},
   "source": [
    "The goal of this notebook is to compute the variances of the low-rank decompositions."
   ]
  },
  {
   "cell_type": "code",
   "execution_count": 1,
   "id": "3aa1c770",
   "metadata": {},
   "outputs": [],
   "source": [
    "import sys\n",
    "sys.path.append('../')\n",
    "\n",
    "import numpy as np\n",
    "import pickle\n",
    "\n",
    "from utils_lowrank import (\n",
    "    get_lowrank_fragment_tensors\n",
    ")\n",
    "\n",
    "from utils_process import (\n",
    "    calculate_variance_metric_memory_efficient\n",
    ")"
   ]
  },
  {
   "cell_type": "code",
   "execution_count": 2,
   "id": "7a4c4c3a",
   "metadata": {},
   "outputs": [
    {
     "name": "stdout",
     "output_type": "stream",
     "text": [
      "fragment number: 4 / 5\n",
      "        Molecule        : h2\n",
      "        Method          : lowrank\n",
      "        Variance Metric : (0.13664416143765779+3.426055536226348e-17j)\n",
      "    \n",
      "fragment number: 12 / 13\n",
      "        Molecule        : h4\n",
      "        Method          : lowrank\n",
      "        Variance Metric : (1.5048645289229967+1.4379468873464017e-15j)\n",
      "    \n",
      "fragment number: 23 / 24\n",
      "        Molecule        : lih\n",
      "        Method          : lowrank\n",
      "        Variance Metric : (3.161212333698411+3.616325413151595e-15j)\n",
      "    \n",
      "fragment number: 31 / 32\n",
      "        Molecule        : beh2\n",
      "        Method          : lowrank\n",
      "        Variance Metric : (1.8636064512304957-1.2719930401633e-14j)\n",
      "    \n",
      "fragment number: 34 / 35\n",
      "        Molecule        : h2o\n",
      "        Method          : lowrank\n",
      "        Variance Metric : (58.47593339607698+8.126616455044938e-14j)\n",
      "    \n",
      "fragment number: 43 / 44\n",
      "        Molecule        : nh3\n",
      "        Method          : lowrank\n",
      "        Variance Metric : (58.06883046556733-3.8246539990063276e-13j)\n",
      "    \n"
     ]
    }
   ],
   "source": [
    "for moltag in ['h2', 'h4', 'lih', 'beh2', 'h2o', 'nh3']:\n",
    "    \n",
    "    # load Hamiltonian\n",
    "    with open(f'../hamiltonians/{moltag}/operator', 'rb') as f:\n",
    "        Hferm = pickle.load(f)\n",
    "    \n",
    "    # load Hamiltonian tensors\n",
    "    with open(f'../hamiltonians/{moltag}/chem_tensors', 'rb') as f:\n",
    "        Hobt, Htbt = pickle.load(f)\n",
    "    \n",
    "    # compute LR decomposition\n",
    "    lr_tbts = get_lowrank_fragment_tensors(Htbt)\n",
    "    \n",
    "    # compute variance metric\n",
    "    variance_metric = calculate_variance_metric_memory_efficient(Hferm, Hobt, lr_tbts)[1]\n",
    "    \n",
    "    print(f\"\"\"\n",
    "        Molecule        : {moltag}\n",
    "        Method          : {'lowrank'}\n",
    "        Variance Metric : {variance_metric}\n",
    "    \"\"\")"
   ]
  },
  {
   "cell_type": "code",
   "execution_count": null,
   "id": "27848dbe",
   "metadata": {},
   "outputs": [],
   "source": []
  }
 ],
 "metadata": {
  "kernelspec": {
   "display_name": "Python 3",
   "language": "python",
   "name": "python3"
  },
  "language_info": {
   "codemirror_mode": {
    "name": "ipython",
    "version": 3
   },
   "file_extension": ".py",
   "mimetype": "text/x-python",
   "name": "python",
   "nbconvert_exporter": "python",
   "pygments_lexer": "ipython3",
   "version": "3.7.9"
  }
 },
 "nbformat": 4,
 "nbformat_minor": 5
}
