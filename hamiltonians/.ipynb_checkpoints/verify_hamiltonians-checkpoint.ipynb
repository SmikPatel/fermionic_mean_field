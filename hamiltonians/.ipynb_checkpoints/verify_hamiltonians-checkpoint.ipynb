{
 "cells": [
  {
   "cell_type": "code",
   "execution_count": 2,
   "id": "ab0c7cd8",
   "metadata": {},
   "outputs": [
    {
     "name": "stdout",
     "output_type": "stream",
     "text": [
      "TrueTrueTrueTrueTrueTrueTrueTrueTrueTrueFalseFalse\n",
      "TrueTrueTrueTrueTrueTrueTrueTrueTrueTrueTrueTrue"
     ]
    }
   ],
   "source": [
    "import numpy as np\n",
    "\n",
    "import pickle\n",
    "\n",
    "for moltag in ['h2', 'h4', 'lih', 'beh2', 'h2o', 'nh3']:\n",
    "    \n",
    "    with open(f'{moltag}/chem_tensors', 'rb') as f:\n",
    "        newobt, newtbt = pickle.load(f)\n",
    "        \n",
    "    with open(f'test2022/tensors_{moltag}_chem', 'rb') as f:\n",
    "        oldobt, oldtbt = pickle.load(f)\n",
    "        \n",
    "    print(np.allclose(oldobt, newobt), end='')\n",
    "    print(np.allclose(oldtbt, newtbt), end='')\n",
    "    \n",
    "print()\n",
    "\n",
    "for moltag in ['h2', 'h4', 'lih', 'beh2', 'h2o', 'nh3']:\n",
    "    \n",
    "    with open(f'{moltag}/chem_tensors', 'rb') as f:\n",
    "        newobt, newtbt = pickle.load(f)\n",
    "        \n",
    "    with open(f'test2023/{moltag}/chem_tensors', 'rb') as f:\n",
    "        oldobt, oldtbt = pickle.load(f)\n",
    "        \n",
    "    print(np.allclose(newobt, oldobt), end='')\n",
    "    print(np.allclose(newtbt, oldtbt), end='')"
   ]
  },
  {
   "cell_type": "code",
   "execution_count": null,
   "id": "12f11ca2",
   "metadata": {},
   "outputs": [],
   "source": []
  }
 ],
 "metadata": {
  "kernelspec": {
   "display_name": "Python 3",
   "language": "python",
   "name": "python3"
  },
  "language_info": {
   "codemirror_mode": {
    "name": "ipython",
    "version": 3
   },
   "file_extension": ".py",
   "mimetype": "text/x-python",
   "name": "python",
   "nbconvert_exporter": "python",
   "pygments_lexer": "ipython3",
   "version": "3.7.9"
  }
 },
 "nbformat": 4,
 "nbformat_minor": 5
}
